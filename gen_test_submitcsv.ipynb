{
 "cells": [
  {
   "cell_type": "code",
   "execution_count": 1,
   "metadata": {},
   "outputs": [],
   "source": [
    "import pandas as pd\n",
    "import numpy as np\n",
    "import os"
   ]
  },
  {
   "cell_type": "code",
   "execution_count": 2,
   "metadata": {},
   "outputs": [],
   "source": [
    "# path\n",
    "base_path = './dataset'\n",
    "publish_path = ''\n",
    "test_nodes_path = os.path.join(base_path, publish_path, 'test_nodes.csv')"
   ]
  },
  {
   "cell_type": "code",
   "execution_count": 5,
   "metadata": {},
   "outputs": [],
   "source": [
    "submit_val = pd.read_csv('./dataset/sample_submission_for_validation.csv')"
   ]
  },
  {
   "cell_type": "code",
   "execution_count": 27,
   "metadata": {},
   "outputs": [
    {
     "data": {
      "text/html": [
       "<div>\n",
       "<style scoped>\n",
       "    .dataframe tbody tr th:only-of-type {\n",
       "        vertical-align: middle;\n",
       "    }\n",
       "\n",
       "    .dataframe tbody tr th {\n",
       "        vertical-align: top;\n",
       "    }\n",
       "\n",
       "    .dataframe thead th {\n",
       "        text-align: right;\n",
       "    }\n",
       "</style>\n",
       "<table border=\"1\" class=\"dataframe\">\n",
       "  <thead>\n",
       "    <tr style=\"text-align: right;\">\n",
       "      <th></th>\n",
       "      <th>id</th>\n",
       "      <th>label</th>\n",
       "    </tr>\n",
       "  </thead>\n",
       "  <tbody>\n",
       "    <tr>\n",
       "      <th>0</th>\n",
       "      <td>c39457cc34fa969b03819eaa4f9b7a52</td>\n",
       "      <td>A</td>\n",
       "    </tr>\n",
       "    <tr>\n",
       "      <th>1</th>\n",
       "      <td>668b9d0c53e9b6e2c6b1093102f976b3</td>\n",
       "      <td>B</td>\n",
       "    </tr>\n",
       "    <tr>\n",
       "      <th>2</th>\n",
       "      <td>ca5c7bc1b40c0ef3c3f864aed032ca90</td>\n",
       "      <td>C</td>\n",
       "    </tr>\n",
       "    <tr>\n",
       "      <th>3</th>\n",
       "      <td>44f810c0c000cda27ce618add55e815f</td>\n",
       "      <td>D</td>\n",
       "    </tr>\n",
       "    <tr>\n",
       "      <th>4</th>\n",
       "      <td>3c206335d88637d36d83c2942586be98</td>\n",
       "      <td>E</td>\n",
       "    </tr>\n",
       "    <tr>\n",
       "      <th>...</th>\n",
       "      <td>...</td>\n",
       "      <td>...</td>\n",
       "    </tr>\n",
       "    <tr>\n",
       "      <th>591967</th>\n",
       "      <td>5e231ec5d4167c541055092ee6e65a74</td>\n",
       "      <td>Q</td>\n",
       "    </tr>\n",
       "    <tr>\n",
       "      <th>591968</th>\n",
       "      <td>25f30607d6bfd52ca2780d8ea928e77e</td>\n",
       "      <td>R</td>\n",
       "    </tr>\n",
       "    <tr>\n",
       "      <th>591969</th>\n",
       "      <td>703abf983edaaef1d34091eabb4ffd20</td>\n",
       "      <td>S</td>\n",
       "    </tr>\n",
       "    <tr>\n",
       "      <th>591970</th>\n",
       "      <td>d051d9bec90a57152776fc5e9b08e5b2</td>\n",
       "      <td>T</td>\n",
       "    </tr>\n",
       "    <tr>\n",
       "      <th>591971</th>\n",
       "      <td>6f320571453737210aa7c91068cd3813</td>\n",
       "      <td>U</td>\n",
       "    </tr>\n",
       "  </tbody>\n",
       "</table>\n",
       "<p>591972 rows × 2 columns</p>\n",
       "</div>"
      ],
      "text/plain": [
       "                                      id label\n",
       "0       c39457cc34fa969b03819eaa4f9b7a52     A\n",
       "1       668b9d0c53e9b6e2c6b1093102f976b3     B\n",
       "2       ca5c7bc1b40c0ef3c3f864aed032ca90     C\n",
       "3       44f810c0c000cda27ce618add55e815f     D\n",
       "4       3c206335d88637d36d83c2942586be98     E\n",
       "...                                  ...   ...\n",
       "591967  5e231ec5d4167c541055092ee6e65a74     Q\n",
       "591968  25f30607d6bfd52ca2780d8ea928e77e     R\n",
       "591969  703abf983edaaef1d34091eabb4ffd20     S\n",
       "591970  d051d9bec90a57152776fc5e9b08e5b2     T\n",
       "591971  6f320571453737210aa7c91068cd3813     U\n",
       "\n",
       "[591972 rows x 2 columns]"
      ]
     },
     "execution_count": 27,
     "metadata": {},
     "output_type": "execute_result"
    }
   ],
   "source": [
    "submit_val"
   ]
  },
  {
   "cell_type": "code",
   "execution_count": 17,
   "metadata": {},
   "outputs": [
    {
     "data": {
      "text/plain": [
       "array(['c39457cc34fa969b03819eaa4f9b7a52',\n",
       "       '668b9d0c53e9b6e2c6b1093102f976b3',\n",
       "       'ca5c7bc1b40c0ef3c3f864aed032ca90', ...,\n",
       "       '703abf983edaaef1d34091eabb4ffd20',\n",
       "       'd051d9bec90a57152776fc5e9b08e5b2',\n",
       "       '6f320571453737210aa7c91068cd3813'], dtype=object)"
      ]
     },
     "execution_count": 17,
     "metadata": {},
     "output_type": "execute_result"
    }
   ],
   "source": [
    "submit_val['id'].values"
   ]
  },
  {
   "cell_type": "code",
   "execution_count": 18,
   "metadata": {},
   "outputs": [
    {
     "data": {
      "text/plain": [
       "array(['A', 'B', 'C', ..., 'S', 'T', 'U'], dtype=object)"
      ]
     },
     "execution_count": 18,
     "metadata": {},
     "output_type": "execute_result"
    }
   ],
   "source": [
    "submit_val['label'].values"
   ]
  },
  {
   "cell_type": "code",
   "execution_count": 3,
   "metadata": {},
   "outputs": [],
   "source": [
    "test_node = pd.read_csv(test_nodes_path)"
   ]
  },
  {
   "cell_type": "code",
   "execution_count": 30,
   "metadata": {},
   "outputs": [
    {
     "data": {
      "text/html": [
       "<div>\n",
       "<style scoped>\n",
       "    .dataframe tbody tr th:only-of-type {\n",
       "        vertical-align: middle;\n",
       "    }\n",
       "\n",
       "    .dataframe tbody tr th {\n",
       "        vertical-align: top;\n",
       "    }\n",
       "\n",
       "    .dataframe thead th {\n",
       "        text-align: right;\n",
       "    }\n",
       "</style>\n",
       "<table border=\"1\" class=\"dataframe\">\n",
       "  <thead>\n",
       "    <tr style=\"text-align: right;\">\n",
       "      <th></th>\n",
       "      <th>ID</th>\n",
       "      <th>Feature</th>\n",
       "    </tr>\n",
       "  </thead>\n",
       "  <tbody>\n",
       "    <tr>\n",
       "      <th>0</th>\n",
       "      <td>1f144e8a8561f0631aa82a95fdf25b6f</td>\n",
       "      <td>['2.6049350e-02', '-2.1876000e-01', '1.7905000...</td>\n",
       "    </tr>\n",
       "    <tr>\n",
       "      <th>1</th>\n",
       "      <td>e7699b6c4a42e604e9fa5bdf6588008f</td>\n",
       "      <td>['-3.4940000e-02', '-6.0958500e-01', '-9.01825...</td>\n",
       "    </tr>\n",
       "    <tr>\n",
       "      <th>2</th>\n",
       "      <td>9c76b581329b63e25d416977f2624790</td>\n",
       "      <td>['1.80435000e-01', '-1.82635000e-01', '3.06378...</td>\n",
       "    </tr>\n",
       "    <tr>\n",
       "      <th>3</th>\n",
       "      <td>0098c636c99bcedcf7c94a5054abcff5</td>\n",
       "      <td>['-0.06313', '-0.516309', '-0.200475', '-0.017...</td>\n",
       "    </tr>\n",
       "    <tr>\n",
       "      <th>4</th>\n",
       "      <td>aa9b18d6c5e59880b61af3cde116d965</td>\n",
       "      <td>['-6.3159500e-01', '-1.0210950e+00', '2.023600...</td>\n",
       "    </tr>\n",
       "    <tr>\n",
       "      <th>...</th>\n",
       "      <td>...</td>\n",
       "      <td>...</td>\n",
       "    </tr>\n",
       "    <tr>\n",
       "      <th>1690715</th>\n",
       "      <td>effce47afcdac4719786879caafd2217</td>\n",
       "      <td>['2.16386000e-01', '-1.68577652e-01', '8.18897...</td>\n",
       "    </tr>\n",
       "    <tr>\n",
       "      <th>1690716</th>\n",
       "      <td>bf1cb9e6d24d91917fdbffa750674dbc</td>\n",
       "      <td>['2.09472400e-01', '-3.49317600e-02', '1.33132...</td>\n",
       "    </tr>\n",
       "    <tr>\n",
       "      <th>1690717</th>\n",
       "      <td>6fe66654901bd507ffe7fe2a613260f7</td>\n",
       "      <td>['2.45289526e-01', '-1.18737789e-01', '2.26679...</td>\n",
       "    </tr>\n",
       "    <tr>\n",
       "      <th>1690718</th>\n",
       "      <td>af5088ee3b18336757d21711f0674070</td>\n",
       "      <td>['2.09699533e-01', '-3.55763233e-01', '3.56087...</td>\n",
       "    </tr>\n",
       "    <tr>\n",
       "      <th>1690719</th>\n",
       "      <td>bd0d945aa4e523a3ed64ef1247273e91</td>\n",
       "      <td>['0.21119208', '-0.17424504', '-0.023897', '-0...</td>\n",
       "    </tr>\n",
       "  </tbody>\n",
       "</table>\n",
       "<p>1690720 rows × 2 columns</p>\n",
       "</div>"
      ],
      "text/plain": [
       "                                       ID  \\\n",
       "0        1f144e8a8561f0631aa82a95fdf25b6f   \n",
       "1        e7699b6c4a42e604e9fa5bdf6588008f   \n",
       "2        9c76b581329b63e25d416977f2624790   \n",
       "3        0098c636c99bcedcf7c94a5054abcff5   \n",
       "4        aa9b18d6c5e59880b61af3cde116d965   \n",
       "...                                   ...   \n",
       "1690715  effce47afcdac4719786879caafd2217   \n",
       "1690716  bf1cb9e6d24d91917fdbffa750674dbc   \n",
       "1690717  6fe66654901bd507ffe7fe2a613260f7   \n",
       "1690718  af5088ee3b18336757d21711f0674070   \n",
       "1690719  bd0d945aa4e523a3ed64ef1247273e91   \n",
       "\n",
       "                                                   Feature  \n",
       "0        ['2.6049350e-02', '-2.1876000e-01', '1.7905000...  \n",
       "1        ['-3.4940000e-02', '-6.0958500e-01', '-9.01825...  \n",
       "2        ['1.80435000e-01', '-1.82635000e-01', '3.06378...  \n",
       "3        ['-0.06313', '-0.516309', '-0.200475', '-0.017...  \n",
       "4        ['-6.3159500e-01', '-1.0210950e+00', '2.023600...  \n",
       "...                                                    ...  \n",
       "1690715  ['2.16386000e-01', '-1.68577652e-01', '8.18897...  \n",
       "1690716  ['2.09472400e-01', '-3.49317600e-02', '1.33132...  \n",
       "1690717  ['2.45289526e-01', '-1.18737789e-01', '2.26679...  \n",
       "1690718  ['2.09699533e-01', '-3.55763233e-01', '3.56087...  \n",
       "1690719  ['0.21119208', '-0.17424504', '-0.023897', '-0...  \n",
       "\n",
       "[1690720 rows x 2 columns]"
      ]
     },
     "execution_count": 30,
     "metadata": {},
     "output_type": "execute_result"
    }
   ],
   "source": [
    "test_node"
   ]
  },
  {
   "cell_type": "code",
   "execution_count": 10,
   "metadata": {},
   "outputs": [
    {
     "data": {
      "text/plain": [
       "array([['1f144e8a8561f0631aa82a95fdf25b6f'],\n",
       "       ['e7699b6c4a42e604e9fa5bdf6588008f'],\n",
       "       ['9c76b581329b63e25d416977f2624790'],\n",
       "       ...,\n",
       "       ['6fe66654901bd507ffe7fe2a613260f7'],\n",
       "       ['af5088ee3b18336757d21711f0674070'],\n",
       "       ['bd0d945aa4e523a3ed64ef1247273e91']], dtype=object)"
      ]
     },
     "execution_count": 10,
     "metadata": {},
     "output_type": "execute_result"
    }
   ],
   "source": [
    "test_id = test_node[['ID']].values\n",
    "test_id"
   ]
  },
  {
   "cell_type": "code",
   "execution_count": 16,
   "metadata": {},
   "outputs": [
    {
     "data": {
      "text/plain": [
       "array([['A'],\n",
       "       ['A'],\n",
       "       ['A'],\n",
       "       ...,\n",
       "       ['A'],\n",
       "       ['A'],\n",
       "       ['A']], dtype=object)"
      ]
     },
     "execution_count": 16,
     "metadata": {},
     "output_type": "execute_result"
    }
   ],
   "source": [
    "num_test = test_id.shape[0]\n",
    "label = test_id.copy()\n",
    "label[:, :] = 'A'\n",
    "label"
   ]
  },
  {
   "cell_type": "code",
   "execution_count": 19,
   "metadata": {},
   "outputs": [
    {
     "data": {
      "text/plain": [
       "array([['1f144e8a8561f0631aa82a95fdf25b6f', 'A'],\n",
       "       ['e7699b6c4a42e604e9fa5bdf6588008f', 'A'],\n",
       "       ['9c76b581329b63e25d416977f2624790', 'A'],\n",
       "       ...,\n",
       "       ['6fe66654901bd507ffe7fe2a613260f7', 'A'],\n",
       "       ['af5088ee3b18336757d21711f0674070', 'A'],\n",
       "       ['bd0d945aa4e523a3ed64ef1247273e91', 'A']], dtype=object)"
      ]
     },
     "execution_count": 19,
     "metadata": {},
     "output_type": "execute_result"
    }
   ],
   "source": [
    "test_all = np.concatenate((test_id, label), axis=1)\n",
    "test_all"
   ]
  },
  {
   "cell_type": "code",
   "execution_count": 22,
   "metadata": {},
   "outputs": [
    {
     "data": {
      "text/html": [
       "<div>\n",
       "<style scoped>\n",
       "    .dataframe tbody tr th:only-of-type {\n",
       "        vertical-align: middle;\n",
       "    }\n",
       "\n",
       "    .dataframe tbody tr th {\n",
       "        vertical-align: top;\n",
       "    }\n",
       "\n",
       "    .dataframe thead th {\n",
       "        text-align: right;\n",
       "    }\n",
       "</style>\n",
       "<table border=\"1\" class=\"dataframe\">\n",
       "  <thead>\n",
       "    <tr style=\"text-align: right;\">\n",
       "      <th></th>\n",
       "      <th>id</th>\n",
       "      <th>label</th>\n",
       "    </tr>\n",
       "  </thead>\n",
       "  <tbody>\n",
       "    <tr>\n",
       "      <th>0</th>\n",
       "      <td>1f144e8a8561f0631aa82a95fdf25b6f</td>\n",
       "      <td>A</td>\n",
       "    </tr>\n",
       "    <tr>\n",
       "      <th>1</th>\n",
       "      <td>e7699b6c4a42e604e9fa5bdf6588008f</td>\n",
       "      <td>A</td>\n",
       "    </tr>\n",
       "    <tr>\n",
       "      <th>2</th>\n",
       "      <td>9c76b581329b63e25d416977f2624790</td>\n",
       "      <td>A</td>\n",
       "    </tr>\n",
       "    <tr>\n",
       "      <th>3</th>\n",
       "      <td>0098c636c99bcedcf7c94a5054abcff5</td>\n",
       "      <td>A</td>\n",
       "    </tr>\n",
       "    <tr>\n",
       "      <th>4</th>\n",
       "      <td>aa9b18d6c5e59880b61af3cde116d965</td>\n",
       "      <td>A</td>\n",
       "    </tr>\n",
       "    <tr>\n",
       "      <th>...</th>\n",
       "      <td>...</td>\n",
       "      <td>...</td>\n",
       "    </tr>\n",
       "    <tr>\n",
       "      <th>1690715</th>\n",
       "      <td>effce47afcdac4719786879caafd2217</td>\n",
       "      <td>A</td>\n",
       "    </tr>\n",
       "    <tr>\n",
       "      <th>1690716</th>\n",
       "      <td>bf1cb9e6d24d91917fdbffa750674dbc</td>\n",
       "      <td>A</td>\n",
       "    </tr>\n",
       "    <tr>\n",
       "      <th>1690717</th>\n",
       "      <td>6fe66654901bd507ffe7fe2a613260f7</td>\n",
       "      <td>A</td>\n",
       "    </tr>\n",
       "    <tr>\n",
       "      <th>1690718</th>\n",
       "      <td>af5088ee3b18336757d21711f0674070</td>\n",
       "      <td>A</td>\n",
       "    </tr>\n",
       "    <tr>\n",
       "      <th>1690719</th>\n",
       "      <td>bd0d945aa4e523a3ed64ef1247273e91</td>\n",
       "      <td>A</td>\n",
       "    </tr>\n",
       "  </tbody>\n",
       "</table>\n",
       "<p>1690720 rows × 2 columns</p>\n",
       "</div>"
      ],
      "text/plain": [
       "                                       id label\n",
       "0        1f144e8a8561f0631aa82a95fdf25b6f     A\n",
       "1        e7699b6c4a42e604e9fa5bdf6588008f     A\n",
       "2        9c76b581329b63e25d416977f2624790     A\n",
       "3        0098c636c99bcedcf7c94a5054abcff5     A\n",
       "4        aa9b18d6c5e59880b61af3cde116d965     A\n",
       "...                                   ...   ...\n",
       "1690715  effce47afcdac4719786879caafd2217     A\n",
       "1690716  bf1cb9e6d24d91917fdbffa750674dbc     A\n",
       "1690717  6fe66654901bd507ffe7fe2a613260f7     A\n",
       "1690718  af5088ee3b18336757d21711f0674070     A\n",
       "1690719  bd0d945aa4e523a3ed64ef1247273e91     A\n",
       "\n",
       "[1690720 rows x 2 columns]"
      ]
     },
     "execution_count": 22,
     "metadata": {},
     "output_type": "execute_result"
    }
   ],
   "source": [
    "submit_test = pd.DataFrame(test_all, columns=['id', 'label'])\n",
    "submit_test"
   ]
  },
  {
   "cell_type": "code",
   "execution_count": 28,
   "metadata": {},
   "outputs": [],
   "source": [
    "submit_test.to_csv('./dataset/sample_submission_for_test.csv', index=False)"
   ]
  },
  {
   "cell_type": "code",
   "execution_count": 29,
   "metadata": {},
   "outputs": [
    {
     "data": {
      "text/html": [
       "<div>\n",
       "<style scoped>\n",
       "    .dataframe tbody tr th:only-of-type {\n",
       "        vertical-align: middle;\n",
       "    }\n",
       "\n",
       "    .dataframe tbody tr th {\n",
       "        vertical-align: top;\n",
       "    }\n",
       "\n",
       "    .dataframe thead th {\n",
       "        text-align: right;\n",
       "    }\n",
       "</style>\n",
       "<table border=\"1\" class=\"dataframe\">\n",
       "  <thead>\n",
       "    <tr style=\"text-align: right;\">\n",
       "      <th></th>\n",
       "      <th>id</th>\n",
       "      <th>label</th>\n",
       "    </tr>\n",
       "  </thead>\n",
       "  <tbody>\n",
       "    <tr>\n",
       "      <th>0</th>\n",
       "      <td>1f144e8a8561f0631aa82a95fdf25b6f</td>\n",
       "      <td>A</td>\n",
       "    </tr>\n",
       "    <tr>\n",
       "      <th>1</th>\n",
       "      <td>e7699b6c4a42e604e9fa5bdf6588008f</td>\n",
       "      <td>A</td>\n",
       "    </tr>\n",
       "    <tr>\n",
       "      <th>2</th>\n",
       "      <td>9c76b581329b63e25d416977f2624790</td>\n",
       "      <td>A</td>\n",
       "    </tr>\n",
       "    <tr>\n",
       "      <th>3</th>\n",
       "      <td>0098c636c99bcedcf7c94a5054abcff5</td>\n",
       "      <td>A</td>\n",
       "    </tr>\n",
       "    <tr>\n",
       "      <th>4</th>\n",
       "      <td>aa9b18d6c5e59880b61af3cde116d965</td>\n",
       "      <td>A</td>\n",
       "    </tr>\n",
       "    <tr>\n",
       "      <th>...</th>\n",
       "      <td>...</td>\n",
       "      <td>...</td>\n",
       "    </tr>\n",
       "    <tr>\n",
       "      <th>1690715</th>\n",
       "      <td>effce47afcdac4719786879caafd2217</td>\n",
       "      <td>A</td>\n",
       "    </tr>\n",
       "    <tr>\n",
       "      <th>1690716</th>\n",
       "      <td>bf1cb9e6d24d91917fdbffa750674dbc</td>\n",
       "      <td>A</td>\n",
       "    </tr>\n",
       "    <tr>\n",
       "      <th>1690717</th>\n",
       "      <td>6fe66654901bd507ffe7fe2a613260f7</td>\n",
       "      <td>A</td>\n",
       "    </tr>\n",
       "    <tr>\n",
       "      <th>1690718</th>\n",
       "      <td>af5088ee3b18336757d21711f0674070</td>\n",
       "      <td>A</td>\n",
       "    </tr>\n",
       "    <tr>\n",
       "      <th>1690719</th>\n",
       "      <td>bd0d945aa4e523a3ed64ef1247273e91</td>\n",
       "      <td>A</td>\n",
       "    </tr>\n",
       "  </tbody>\n",
       "</table>\n",
       "<p>1690720 rows × 2 columns</p>\n",
       "</div>"
      ],
      "text/plain": [
       "                                       id label\n",
       "0        1f144e8a8561f0631aa82a95fdf25b6f     A\n",
       "1        e7699b6c4a42e604e9fa5bdf6588008f     A\n",
       "2        9c76b581329b63e25d416977f2624790     A\n",
       "3        0098c636c99bcedcf7c94a5054abcff5     A\n",
       "4        aa9b18d6c5e59880b61af3cde116d965     A\n",
       "...                                   ...   ...\n",
       "1690715  effce47afcdac4719786879caafd2217     A\n",
       "1690716  bf1cb9e6d24d91917fdbffa750674dbc     A\n",
       "1690717  6fe66654901bd507ffe7fe2a613260f7     A\n",
       "1690718  af5088ee3b18336757d21711f0674070     A\n",
       "1690719  bd0d945aa4e523a3ed64ef1247273e91     A\n",
       "\n",
       "[1690720 rows x 2 columns]"
      ]
     },
     "execution_count": 29,
     "metadata": {},
     "output_type": "execute_result"
    }
   ],
   "source": [
    "submit = pd.read_csv('./dataset/sample_submission_for_test.csv')\n",
    "submit"
   ]
  },
  {
   "cell_type": "code",
   "execution_count": null,
   "metadata": {},
   "outputs": [],
   "source": []
  }
 ],
 "metadata": {
  "interpreter": {
   "hash": "7d6e9f8b297c76fb07a0d121ca94fd696bee4f63bd4011f44f51b92fd8c25d8a"
  },
  "kernelspec": {
   "display_name": "Python 3.7.11 64-bit ('env_pyg2': conda)",
   "language": "python",
   "name": "python3"
  },
  "language_info": {
   "codemirror_mode": {
    "name": "ipython",
    "version": 3
   },
   "file_extension": ".py",
   "mimetype": "text/x-python",
   "name": "python",
   "nbconvert_exporter": "python",
   "pygments_lexer": "ipython3",
   "version": "3.7.11"
  },
  "orig_nbformat": 4
 },
 "nbformat": 4,
 "nbformat_minor": 2
}
